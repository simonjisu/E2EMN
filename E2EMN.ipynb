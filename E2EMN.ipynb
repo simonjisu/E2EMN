{
 "cells": [
  {
   "cell_type": "code",
   "execution_count": 1,
   "metadata": {
    "collapsed": false
   },
   "outputs": [
    {
     "name": "stderr",
     "output_type": "stream",
     "text": [
      "Using TensorFlow backend.\n"
     ]
    }
   ],
   "source": [
    "import keras\n",
    "from nltk.tokenize import word_tokenize\n",
    "import re\n",
    "import os"
   ]
  },
  {
   "cell_type": "code",
   "execution_count": 2,
   "metadata": {
    "collapsed": true
   },
   "outputs": [],
   "source": [
    "from konlpy.tag import Kkma, Twitter\n",
    "import soynlp"
   ]
  },
  {
   "cell_type": "code",
   "execution_count": 3,
   "metadata": {
    "collapsed": true
   },
   "outputs": [],
   "source": [
    "data_path = \"./data/Memory_End_to-End_Network_Project/bAbi-tasks/QA_bAbI_tasks/ko/\""
   ]
  },
  {
   "cell_type": "code",
   "execution_count": 4,
   "metadata": {
    "collapsed": true
   },
   "outputs": [],
   "source": [
    "f = open(data_path + \"qa1_single-supporting-fact_train.txt\")\n",
    "docs = f.readlines()"
   ]
  },
  {
   "cell_type": "code",
   "execution_count": 7,
   "metadata": {
    "collapsed": false
   },
   "outputs": [
    {
     "data": {
      "text/plain": [
       "'1 마리아가 화장실로 갔다.\\n'"
      ]
     },
     "execution_count": 7,
     "metadata": {},
     "output_type": "execute_result"
    }
   ],
   "source": [
    "data[0]"
   ]
  },
  {
   "cell_type": "code",
   "execution_count": 8,
   "metadata": {
    "collapsed": true
   },
   "outputs": [],
   "source": [
    "word2idx = {}\n",
    "max_words = 0\n",
    "max_sentences = 0"
   ]
  },
  {
   "cell_type": "code",
   "execution_count": 9,
   "metadata": {
    "collapsed": true
   },
   "outputs": [],
   "source": [
    "def read_data(fname, word2idx, max_words, max_sentences):\n",
    "    stories = dict()\n",
    "    questions = dict()\n",
    "    \n",
    "    if len(word2idx) == 0:\n",
    "        word2idx['<null>'] = 0\n",
    "        \n",
    "    if os.path.isfile(fname):\n",
    "        with open(fname) as f:\n",
    "            lines = f.readlines()\n",
    "    else:\n",
    "        raise Exception(\"[!] Data {file} not found\".format(file=fname))\n",
    "        \n",
    "    for line in lines:\n",
    "        line = line.strip()  # delete \\n\n",
    "        nid, line = line.split(' ', 1)  # seperate number and sentences\n",
    "        line = line.lower()\n",
    "        nid = int(nid)\n",
    "        \n",
    "        # whether story begins\n",
    "        if nid == 1:\n",
    "            story_ind = len(stories)\n",
    "            sentence_ind = 0\n",
    "            stories[story_ind] = []\n",
    "        \n",
    "        if '\\t' in line:\n",
    "            is_question = True\n",
    "            question_ind = len(questions)\n",
    "            questions[question_ind] = {'question': [], \n",
    "                                       'answer': [], \n",
    "                                       'story_index': story_ind, \n",
    "                                       'sentence_index': sentence_ind}\n",
    "        else:\n",
    "            is_question = False\n",
    "            sentence_ind = len(stories[story_ind])\n",
    "        \n",
    "        # sentence parsing\n",
    "        sentence_list = []\n",
    "        if not is_question:\n",
    "            words_list, word2idx = tokennvocab(line, word2idx, is_question)\n",
    "            for w in words_list:\n",
    "                if w != '.':\n",
    "                    sentence_list.append(w)\n",
    "                else:\n",
    "                    stories[story_ind].append(sentence_list)\n",
    "                    break\n",
    "        else:\n",
    "            words_list, answer, supporting, words2idx = tokennvocab(line, word2idx, is_question)\n",
    "            for w in words_list:\n",
    "                if w != '?':\n",
    "                    sentence_list.append(w)\n",
    "                else:\n",
    "                    questions[question_ind]['question'].extend(sentence_list)\n",
    "                    questions[question_ind]['answer'].append(answer)\n",
    "                    break\n",
    "        \n",
    "        # Update max_sentences\n",
    "        max_sentences = max(max_sentences, sentence_ind)\n",
    "\n",
    "        \n",
    "            # Convert the words into indices\n",
    "    for idx, context in stories.items():\n",
    "        for i in range(len(context)):\n",
    "            temp = list(map(word2idx.get, context[i]))\n",
    "            context[i] = temp\n",
    "    \n",
    "    for idx, value in questions.items():\n",
    "        temp1 = list(map(word2idx.get, value['question']))\n",
    "        temp2 = list(map(word2idx.get, value['answer']))\n",
    "        \n",
    "        value['question'] = temp1\n",
    "        value['answer'] = temp2\n",
    "        \n",
    "        \n",
    "        \n",
    "    return stories, questions, max_words, max_sentences"
   ]
  },
  {
   "cell_type": "code",
   "execution_count": 10,
   "metadata": {
    "collapsed": true
   },
   "outputs": [],
   "source": [
    "def tokennvocab(line, word2idx, is_question=True):\n",
    "    \"\"\"\n",
    "    tokenizing + add words to dictionary\n",
    "    \n",
    "    \"\"\"\n",
    "    words_list = word_tokenize(line)\n",
    "    \n",
    "    if not is_question:\n",
    "        words = words_list.copy()\n",
    "        words.remove('.')\n",
    "        for w in words:\n",
    "            if w not in word2idx:\n",
    "                word2idx[w] = len(word2idx)   \n",
    "        return words_list, word2idx\n",
    "\n",
    "    else:\n",
    "        supporting = words_list[-1]\n",
    "        answer = words_list[-2]\n",
    "        words_list = words_list[:-1]\n",
    "        words = words_list.copy()\n",
    "        words.remove('?')\n",
    "        for w in words:\n",
    "            if w not in word2idx:\n",
    "                word2idx[w] = len(word2idx)\n",
    "        return words_list, answer, supporting, word2idx"
   ]
  },
  {
   "cell_type": "code",
   "execution_count": 12,
   "metadata": {
    "collapsed": false
   },
   "outputs": [],
   "source": [
    "stories, questions, max_words, max_sentences = read_data(data_path + \"qa1_single-supporting-fact_train.txt\", word2idx, max_words, max_sentences)"
   ]
  },
  {
   "cell_type": "code",
   "execution_count": 5,
   "metadata": {
    "collapsed": false
   },
   "outputs": [],
   "source": [
    "doc = docs[1].strip()"
   ]
  },
  {
   "cell_type": "code",
   "execution_count": 6,
   "metadata": {
    "collapsed": false
   },
   "outputs": [
    {
     "data": {
      "text/plain": [
       "'2 요한은 복도로 갔다.'"
      ]
     },
     "execution_count": 6,
     "metadata": {},
     "output_type": "execute_result"
    }
   ],
   "source": [
    "doc"
   ]
  },
  {
   "cell_type": "code",
   "execution_count": 7,
   "metadata": {
    "collapsed": false
   },
   "outputs": [],
   "source": [
    "nid, doc = doc.split(' ', 1)"
   ]
  },
  {
   "cell_type": "code",
   "execution_count": 8,
   "metadata": {
    "collapsed": false,
    "scrolled": true
   },
   "outputs": [
    {
     "data": {
      "text/plain": [
       "'요한은 복도로 갔다.'"
      ]
     },
     "execution_count": 8,
     "metadata": {},
     "output_type": "execute_result"
    }
   ],
   "source": [
    "doc"
   ]
  },
  {
   "cell_type": "code",
   "execution_count": 78,
   "metadata": {
    "collapsed": true
   },
   "outputs": [
    {
     "data": {
      "text/plain": [
       "{'<null>': 0,\n",
       " '?': 9,\n",
       " '갔다': 3,\n",
       " '그': 36,\n",
       " '다니엘은': 11,\n",
       " '다니엘이': 26,\n",
       " '다시': 30,\n",
       " '동산에': 20,\n",
       " '동산으로': 27,\n",
       " '마리아가': 1,\n",
       " '마리아는': 6,\n",
       " '복도': 14,\n",
       " '복도로': 5,\n",
       " '사무실': 16,\n",
       " '사무실로': 15,\n",
       " '사무실에': 23,\n",
       " '산드라가': 12,\n",
       " '산드라는': 18,\n",
       " '어디에': 7,\n",
       " '왔어': 35,\n",
       " '요한은': 4,\n",
       " '이사': 34,\n",
       " '이사갔습니다': 31,\n",
       " '이사왔다': 32,\n",
       " '있습니까': 8,\n",
       " '정원': 28,\n",
       " '정원에': 33,\n",
       " '정원으로': 13,\n",
       " '주방': 25,\n",
       " '주방에': 29,\n",
       " '주방으로': 24,\n",
       " '침실': 22,\n",
       " '침실로': 17,\n",
       " '침실에': 21,\n",
       " '화장실': 10,\n",
       " '화장실로': 2,\n",
       " '화장실에': 19}"
      ]
     },
     "execution_count": 78,
     "metadata": {},
     "output_type": "execute_result"
    }
   ],
   "source": [
    "word2idx"
   ]
  },
  {
   "cell_type": "code",
   "execution_count": null,
   "metadata": {
    "collapsed": true
   },
   "outputs": [],
   "source": [
    "def cohension(w):\n",
    "    return"
   ]
  },
  {
   "cell_type": "code",
   "execution_count": 81,
   "metadata": {
    "collapsed": true
   },
   "outputs": [],
   "source": [
    "docs = data"
   ]
  },
  {
   "cell_type": "code",
   "execution_count": 83,
   "metadata": {
    "collapsed": false
   },
   "outputs": [
    {
     "data": {
      "text/plain": [
       "['1', '마리아가 화장실로 갔다.\\n']"
      ]
     },
     "execution_count": 83,
     "metadata": {},
     "output_type": "execute_result"
    }
   ],
   "source": [
    "data[0].split(' ', 1)"
   ]
  },
  {
   "cell_type": "code",
   "execution_count": 9,
   "metadata": {
    "collapsed": true
   },
   "outputs": [],
   "source": [
    "from collections import defaultdict\n",
    "count = defaultdict(lambda: 0)\n",
    "\n",
    "for doc in docs:\n",
    "    _, doc = doc.split(' ', 1)\n",
    "    if '\\t' in doc:\n",
    "        #is_question = True\n",
    "        doc = word_tokenize(doc)[:-1]\n",
    "    else:\n",
    "        #is_question = False\n",
    "        doc = word_tokenize(doc)\n",
    "    for word in doc:\n",
    "        n = len(word)\n",
    "        for e in range(1, n+1):\n",
    "            count[word[:e]] += 1"
   ]
  },
  {
   "cell_type": "code",
   "execution_count": 10,
   "metadata": {
    "collapsed": false
   },
   "outputs": [
    {
     "data": {
      "text/plain": [
       "defaultdict(<function __main__.<lambda>>,\n",
       "            {'.': 2000,\n",
       "             '?': 2000,\n",
       "             '갔': 1986,\n",
       "             '갔다': 1986,\n",
       "             '그': 1,\n",
       "             '다': 805,\n",
       "             '다니': 743,\n",
       "             '다니엘': 743,\n",
       "             '다니엘은': 582,\n",
       "             '다니엘이': 161,\n",
       "             '다시': 62,\n",
       "             '동': 93,\n",
       "             '동산': 93,\n",
       "             '동산에': 31,\n",
       "             '동산으': 62,\n",
       "             '동산으로': 62,\n",
       "             '마': 742,\n",
       "             '마리': 742,\n",
       "             '마리아': 742,\n",
       "             '마리아가': 160,\n",
       "             '마리아는': 582,\n",
       "             '복': 526,\n",
       "             '복도': 526,\n",
       "             '복도로': 351,\n",
       "             '사': 500,\n",
       "             '사무': 500,\n",
       "             '사무실': 500,\n",
       "             '사무실로': 259,\n",
       "             '사무실에': 75,\n",
       "             '산': 761,\n",
       "             '산드': 761,\n",
       "             '산드라': 761,\n",
       "             '산드라가': 349,\n",
       "             '산드라는': 412,\n",
       "             '어': 1000,\n",
       "             '어디': 1000,\n",
       "             '어디에': 1000,\n",
       "             '왔': 3,\n",
       "             '왔어': 3,\n",
       "             '요': 754,\n",
       "             '요한': 754,\n",
       "             '요한은': 754,\n",
       "             '이': 16,\n",
       "             '이사': 16,\n",
       "             '이사갔': 8,\n",
       "             '이사갔습': 8,\n",
       "             '이사갔습니': 8,\n",
       "             '이사갔습니다': 8,\n",
       "             '이사왔': 3,\n",
       "             '이사왔다': 3,\n",
       "             '있': 1000,\n",
       "             '있습': 1000,\n",
       "             '있습니': 1000,\n",
       "             '있습니까': 1000,\n",
       "             '정': 411,\n",
       "             '정원': 411,\n",
       "             '정원에': 10,\n",
       "             '정원으': 224,\n",
       "             '정원으로': 224,\n",
       "             '주': 511,\n",
       "             '주방': 511,\n",
       "             '주방에': 86,\n",
       "             '주방으': 252,\n",
       "             '주방으로': 252,\n",
       "             '침': 485,\n",
       "             '침실': 485,\n",
       "             '침실로': 317,\n",
       "             '침실에': 13,\n",
       "             '화': 474,\n",
       "             '화장': 474,\n",
       "             '화장실': 474,\n",
       "             '화장실로': 247,\n",
       "             '화장실에': 73})"
      ]
     },
     "execution_count": 10,
     "metadata": {},
     "output_type": "execute_result"
    }
   ],
   "source": [
    "count"
   ]
  },
  {
   "cell_type": "code",
   "execution_count": 13,
   "metadata": {
    "collapsed": true
   },
   "outputs": [],
   "source": [
    "def cohension(w):\n",
    "    return pow(count[w]/count[w[0]], 1/(len(w)-1))"
   ]
  },
  {
   "cell_type": "code",
   "execution_count": 20,
   "metadata": {
    "collapsed": true
   },
   "outputs": [],
   "source": [
    "word = '주방으로'"
   ]
  },
  {
   "cell_type": "code",
   "execution_count": 21,
   "metadata": {
    "collapsed": true
   },
   "outputs": [],
   "source": [
    "n = len(word)"
   ]
  },
  {
   "cell_type": "code",
   "execution_count": 22,
   "metadata": {
    "collapsed": false
   },
   "outputs": [
    {
     "name": "stdout",
     "output_type": "stream",
     "text": [
      "주방    , f=511, s=1.0\n",
      "주방으   , f=252, s=0.7\n",
      "주방으로  , f=252, s=0.79\n"
     ]
    }
   ],
   "source": [
    "for e in range(2, n+1):\n",
    "    w = word[:e]\n",
    "    f = count[w]\n",
    "    s = cohension(w)\n",
    "    print('{:6}, f={}, s={:.2}'.format(w, f, s))"
   ]
  },
  {
   "cell_type": "code",
   "execution_count": null,
   "metadata": {
    "collapsed": true
   },
   "outputs": [],
   "source": [
    "def tokenizer(w):\n",
    "    n = len(w)\n",
    "    if n <= 2:\n",
    "        return (w, '')\n",
    "    tokens = []\n",
    "    for e in range(2, n+1):\n",
    "        "
   ]
  }
 ],
 "metadata": {
  "kernelspec": {
   "display_name": "Python 3",
   "language": "python",
   "name": "python3"
  },
  "language_info": {
   "codemirror_mode": {
    "name": "ipython",
    "version": 3
   },
   "file_extension": ".py",
   "mimetype": "text/x-python",
   "name": "python",
   "nbconvert_exporter": "python",
   "pygments_lexer": "ipython3",
   "version": "3.6.0"
  }
 },
 "nbformat": 4,
 "nbformat_minor": 2
}
