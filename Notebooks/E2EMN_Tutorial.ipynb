{
 "cells": [
  {
   "cell_type": "code",
   "execution_count": 1,
   "metadata": {},
   "outputs": [],
   "source": [
    "import os\n",
    "import sys\n",
    "sys.path.append('/'.join(os.getcwd().split('/')[:-1] + ['memn2n']))\n",
    "import torch\n",
    "import torch.nn as nn\n",
    "import torch.optim as optim\n",
    "import numpy as np\n",
    "from bAbIDataSet_utils import bAbI\n",
    "from utils import get_story_idx, matshow"
   ]
  },
  {
   "cell_type": "code",
   "execution_count": 2,
   "metadata": {},
   "outputs": [],
   "source": [
    "TASK = 19\n",
    "BATCH = 2\n",
    "FIX_STORY = None\n",
    "DEVICE = None"
   ]
  },
  {
   "cell_type": "code",
   "execution_count": 3,
   "metadata": {},
   "outputs": [],
   "source": [
    "babi = bAbI()\n",
    "train, valid, test = babi.splits(root='../data/QA_bAbI_tasks/en-valid-10k/', task=TASK, fix_maxlen_story=FIX_STORY,\n",
    "                                 device=DEVICE)\n",
    "train_loader, valid_loader, test_loader = babi.iters(train, valid, test, BATCH)\n",
    "VOCAB = train.vocab"
   ]
  },
  {
   "cell_type": "code",
   "execution_count": 4,
   "metadata": {},
   "outputs": [],
   "source": [
    "for b in train_loader:\n",
    "    break"
   ]
  },
  {
   "cell_type": "code",
   "execution_count": 5,
   "metadata": {
    "scrolled": true
   },
   "outputs": [
    {
     "name": "stdout",
     "output_type": "stream",
     "text": [
      "tensor([[5, 4, 3, 2, 1],\n",
      "        [5, 4, 3, 2, 1]])\n"
     ]
    },
    {
     "data": {
      "text/plain": [
       "(torch.Size([2, 5, 7]),\n",
       " torch.Size([2, 10]),\n",
       " torch.Size([2, 1]),\n",
       " torch.Size([2, 5]))"
      ]
     },
     "execution_count": 5,
     "metadata": {},
     "output_type": "execute_result"
    }
   ],
   "source": [
    "stories, queries, answers = b\n",
    "stories_idx = get_story_idx(stories, 0)\n",
    "print(stories_idx)\n",
    "stories.size(), queries.size(), answers.size(), stories_idx.size()"
   ]
  },
  {
   "cell_type": "markdown",
   "metadata": {},
   "source": [
    "## Single Hop Implementation"
   ]
  },
  {
   "cell_type": "code",
   "execution_count": 6,
   "metadata": {},
   "outputs": [],
   "source": [
    "EMBED = 10\n",
    "N_HOPS = 3\n",
    "MAXLEN = train.maxlen_story"
   ]
  },
  {
   "cell_type": "markdown",
   "metadata": {},
   "source": [
    "### Embedding"
   ]
  },
  {
   "cell_type": "markdown",
   "metadata": {},
   "source": [
    "**1. Adjacent**"
   ]
  },
  {
   "cell_type": "code",
   "execution_count": 7,
   "metadata": {},
   "outputs": [],
   "source": [
    "embedding = nn.Embedding(len(VOCAB), EMBED, padding_idx=VOCAB.stoi['<pad>'])"
   ]
  },
  {
   "cell_type": "code",
   "execution_count": 8,
   "metadata": {},
   "outputs": [
    {
     "data": {
      "text/plain": [
       "(torch.Size([2, 10, 6, 10]), torch.Size([2, 3, 10]))"
      ]
     },
     "execution_count": 8,
     "metadata": {},
     "output_type": "execute_result"
    }
   ],
   "source": [
    "embeded_a = embedding(stories)  # B, len_story, len_words, embed_size\n",
    "embeded_b = embedding(queries)  # B, len_query, embed_size\n",
    "embeded_a.size(), embeded_b.size()"
   ]
  },
  {
   "cell_type": "markdown",
   "metadata": {},
   "source": [
    "**2. RNN Like**"
   ]
  },
  {
   "cell_type": "code",
   "execution_count": 8,
   "metadata": {},
   "outputs": [],
   "source": [
    "embedding_A = nn.Embedding(len(VOCAB), EMBED, padding_idx=VOCAB.stoi['<pad>'])\n",
    "embedding_B = nn.Embedding(len(VOCAB), EMBED, padding_idx=VOCAB.stoi['<pad>'])\n",
    "embedding_C = nn.Embedding(len(VOCAB), EMBED, padding_idx=VOCAB.stoi['<pad>'])"
   ]
  },
  {
   "cell_type": "code",
   "execution_count": 9,
   "metadata": {
    "scrolled": true
   },
   "outputs": [
    {
     "data": {
      "text/plain": [
       "(torch.Size([2, 5, 7, 10]), torch.Size([2, 10, 10]))"
      ]
     },
     "execution_count": 9,
     "metadata": {},
     "output_type": "execute_result"
    }
   ],
   "source": [
    "embeded_a = embedding_A(stories)  # B, len_story, len_words, embed_size\n",
    "embeded_b = embedding_B(queries)  # B, len_query, embed_size\n",
    "embeded_a.size(), embeded_b.size()"
   ]
  },
  {
   "cell_type": "markdown",
   "metadata": {},
   "source": [
    "### Position Encoding"
   ]
  },
  {
   "cell_type": "markdown",
   "metadata": {},
   "source": [
    "$m_i = \\sum_j l_j \\odot A x_{ij}$\n",
    "\n",
    "$l_{kj} = (1-\\frac{j}{J}) - (\\frac{k}{d})(1-\\frac{2j}{J})$"
   ]
  },
  {
   "cell_type": "code",
   "execution_count": 10,
   "metadata": {},
   "outputs": [],
   "source": [
    "# position encoding: B, len_story,, len_words(J), embed_size(d) \n",
    "B, len_story, len_words, embed_size = embeded_a.size()"
   ]
  },
  {
   "cell_type": "code",
   "execution_count": 11,
   "metadata": {},
   "outputs": [
    {
     "data": {
      "text/plain": [
       "torch.Size([2, 5, 10])"
      ]
     },
     "execution_count": 11,
     "metadata": {},
     "output_type": "execute_result"
    }
   ],
   "source": [
    "temp = torch.ones_like(embeded_a, device='cpu')\n",
    "k = temp * torch.arange(1, embed_size+1, dtype=torch.float) / embed_size\n",
    "l = temp * torch.arange(1, len_words+1, dtype=torch.float).unsqueeze(1) / len_words\n",
    "position = (1- l) - k * (1 - 2*l)\n",
    "position_encoded = (embeded_a * position.to(embeded_a.device)).sum(2)\n",
    "position_encoded.size()"
   ]
  },
  {
   "cell_type": "code",
   "execution_count": 12,
   "metadata": {},
   "outputs": [
    {
     "data": {
      "image/png": "[encoded data removed]",
      "text/plain": [
       "<Figure size 432x288 with 2 Axes>"
      ]
     },
     "metadata": {},
     "output_type": "display_data"
    }
   ],
   "source": [
    "# one of position matrix like\n",
    "matshow(position[0, 0, :].detach().numpy())"
   ]
  },
  {
   "cell_type": "markdown",
   "metadata": {},
   "source": [
    "### temporal encoding"
   ]
  },
  {
   "cell_type": "markdown",
   "metadata": {},
   "source": [
    "$m_i = \\sum_j Ax_{ij} + T_A(i)$\n",
    "\n",
    "Note that sentences are indexed in reverse order, reflecting their relative distance from the question so that $x_1$ is the last sentence of the story.\n",
    "\n",
    "temporal context encoding length will be \"max story + 1\" because of pad stories\n"
   ]
  },
  {
   "cell_type": "code",
   "execution_count": 13,
   "metadata": {},
   "outputs": [
    {
     "data": {
      "text/plain": [
       "tensor([[5, 4, 3, 2, 1],\n",
       "        [5, 4, 3, 2, 1]])"
      ]
     },
     "execution_count": 13,
     "metadata": {},
     "output_type": "execute_result"
    }
   ],
   "source": [
    "stories_idx"
   ]
  },
  {
   "cell_type": "code",
   "execution_count": 14,
   "metadata": {},
   "outputs": [
    {
     "data": {
      "text/plain": [
       "torch.Size([2, 5, 10])"
      ]
     },
     "execution_count": 14,
     "metadata": {},
     "output_type": "execute_result"
    }
   ],
   "source": [
    "temporal_A = nn.Embedding(MAXLEN+1, EMBED, padding_idx=VOCAB.stoi['<pad>'])\n",
    "temporal_C = nn.Embedding(MAXLEN+1, EMBED, padding_idx=VOCAB.stoi['<pad>'])\n",
    "temporal_A(stories_idx).size()"
   ]
  },
  {
   "cell_type": "markdown",
   "metadata": {},
   "source": [
    "### memory attention"
   ]
  },
  {
   "cell_type": "markdown",
   "metadata": {},
   "source": [
    "if there is no \"temporal encoding\" and \"position encoding\"\n",
    "\n",
    "$\\begin{aligned} \n",
    "m_i &= \\sum_j Ax_{ij} \\\\\n",
    "u &= \\sum_j Bq_{j} \\end{aligned}$"
   ]
  },
  {
   "cell_type": "code",
   "execution_count": 15,
   "metadata": {
    "scrolled": true
   },
   "outputs": [
    {
     "data": {
      "text/plain": [
       "(torch.Size([2, 5, 10]), torch.Size([2, 10]))"
      ]
     },
     "execution_count": 15,
     "metadata": {},
     "output_type": "execute_result"
    }
   ],
   "source": [
    "m = embeded_a.sum(2)  # B, len_story, len_words, embed_size > B, len_story, embed_size\n",
    "u = embeded_b.sum(1)  # B, len_query, embed_size > B, embed_size\n",
    "m.size(), u.size()"
   ]
  },
  {
   "cell_type": "markdown",
   "metadata": {},
   "source": [
    "$p_i = \\text{softmax}(m_i \\cdot u)$\n",
    "\n",
    "If Linear Start scores don't go through softmax layer"
   ]
  },
  {
   "cell_type": "code",
   "execution_count": 16,
   "metadata": {},
   "outputs": [
    {
     "data": {
      "text/plain": [
       "(torch.Size([2, 5, 10]), torch.Size([2, 5, 1]))"
      ]
     },
     "execution_count": 16,
     "metadata": {},
     "output_type": "execute_result"
    }
   ],
   "source": [
    "LS = False\n",
    "softmax_layer = nn.Softmax(dim=1)\n",
    "if LS:\n",
    "    p = torch.bmm(m, u.unsqueeze(2))  # B, len_story, 1\n",
    "else:\n",
    "    p = softmax_layer(torch.bmm(m, u.unsqueeze(2)))\n",
    "embeded_c = embedding_C(stories)  # B, len_story, len_sent, embed_size\n",
    "# embeded_c = embeddding(stories) : for adjacent weight style\n",
    "c = embeded_c.sum(2)  # B, len_story, len_sent, embed_size > B, len_story, embed_size\n",
    "c.size(), p.size()"
   ]
  },
  {
   "cell_type": "code",
   "execution_count": 17,
   "metadata": {},
   "outputs": [
    {
     "name": "stdout",
     "output_type": "stream",
     "text": [
      "[[0. 1. 0. 0. 0.]\n",
      " [1. 0. 0. 0. 0.]]\n"
     ]
    }
   ],
   "source": [
    "print(p.detach().squeeze(2).numpy().round(3))"
   ]
  },
  {
   "cell_type": "code",
   "execution_count": 18,
   "metadata": {},
   "outputs": [
    {
     "data": {
      "image/png": "[encoded data removed]",
      "text/plain": [
       "<Figure size 432x288 with 2 Axes>"
      ]
     },
     "metadata": {},
     "output_type": "display_data"
    }
   ],
   "source": [
    "matshow(p.detach().squeeze(2).numpy())"
   ]
  },
  {
   "cell_type": "markdown",
   "metadata": {},
   "source": [
    "### output"
   ]
  },
  {
   "cell_type": "markdown",
   "metadata": {},
   "source": [
    "$o = \\displaystyle\\sum_i p_i c_i$"
   ]
  },
  {
   "cell_type": "code",
   "execution_count": 19,
   "metadata": {},
   "outputs": [
    {
     "data": {
      "text/plain": [
       "torch.Size([2, 10])"
      ]
     },
     "execution_count": 19,
     "metadata": {},
     "output_type": "execute_result"
    }
   ],
   "source": [
    "o = (c * p).sum(1)  # B, len_story, embed_size > B, embed_size\n",
    "o.size()"
   ]
  },
  {
   "cell_type": "markdown",
   "metadata": {},
   "source": [
    "$\\hat{a} = \\text{softmax}(W(H \\cdot u + o))$\n",
    "\n",
    "linear mapping for \"rnnlike\" weight style"
   ]
  },
  {
   "cell_type": "code",
   "execution_count": 20,
   "metadata": {},
   "outputs": [],
   "source": [
    "linear_mapping = nn.Linear(embed_size, embed_size)  # helpful linear mapping for each hops\n",
    "linear_final = nn.Linear(embed_size, len(VOCAB))"
   ]
  },
  {
   "cell_type": "code",
   "execution_count": 21,
   "metadata": {},
   "outputs": [
    {
     "data": {
      "text/plain": [
       "torch.Size([2, 10])"
      ]
     },
     "execution_count": 21,
     "metadata": {},
     "output_type": "execute_result"
    }
   ],
   "source": [
    "u_next = linear_mapping(u) + o\n",
    "u_next.size()"
   ]
  },
  {
   "cell_type": "code",
   "execution_count": 22,
   "metadata": {},
   "outputs": [
    {
     "data": {
      "text/plain": [
       "torch.Size([2, 26])"
      ]
     },
     "execution_count": 22,
     "metadata": {},
     "output_type": "execute_result"
    }
   ],
   "source": [
    "a = linear_final(u_next)\n",
    "a.size()"
   ]
  },
  {
   "cell_type": "markdown",
   "metadata": {},
   "source": [
    "### layers for multi hops"
   ]
  },
  {
   "cell_type": "markdown",
   "metadata": {},
   "source": [
    "**1. Adjacent**"
   ]
  },
  {
   "cell_type": "code",
   "execution_count": 24,
   "metadata": {},
   "outputs": [],
   "source": [
    "# ModuleList will be shorter code, but for convience looking i used ModuleDict\n",
    "context_modules = nn.ModuleDict([('embedding_{}_{}'.format(n, k), \n",
    "                                  nn.Embedding(len(VOCAB), EMBED, padding_idx=VOCAB.stoi['<pad>'])) \\\n",
    "                                for k, n in enumerate(['A', 'C']*N_HOPS)])"
   ]
  },
  {
   "cell_type": "code",
   "execution_count": 25,
   "metadata": {},
   "outputs": [
    {
     "name": "stdout",
     "output_type": "stream",
     "text": [
      "torch.Size([21, 10])\n"
     ]
    }
   ],
   "source": [
    "for name, mod in context_modules.items():\n",
    "    idx = int(name.split('_')[-1])\n",
    "    if idx == 0:\n",
    "        embedding_B = mod\n",
    "        print(mod.weight.size())\n",
    "    elif idx % 2 == 0:\n",
    "        mod.weight.data = context_modules['embedding_C_{}'.format(idx-1)].weight.data\n",
    "    elif idx == (N_HOPS*2-1):\n",
    "        linear_final = nn.Linear(EMBED, len(VOCAB))\n",
    "        linear_final.weight.data = mod.weight.data"
   ]
  },
  {
   "cell_type": "code",
   "execution_count": 26,
   "metadata": {},
   "outputs": [
    {
     "data": {
      "text/plain": [
       "tensor(1, dtype=torch.uint8)"
      ]
     },
     "execution_count": 26,
     "metadata": {},
     "output_type": "execute_result"
    }
   ],
   "source": [
    "context_modules['embedding_C_1'].weight.sum() == context_modules['embedding_A_2'].weight.sum()"
   ]
  },
  {
   "cell_type": "markdown",
   "metadata": {},
   "source": [
    "**2. RNN Like**"
   ]
  },
  {
   "cell_type": "code",
   "execution_count": 27,
   "metadata": {},
   "outputs": [],
   "source": [
    "# ModuleList will be shorter code, but for convience looking i used ModuleDict\n",
    "context_modules = nn.ModuleDict([('embedding_{}_{}'.format(n, k), \n",
    "                                  nn.Embedding(len(VOCAB), EMBED, padding_idx=VOCAB.stoi['<pad>'])) \\\n",
    "                                for k, n in enumerate(['A', 'C']*N_HOPS)])"
   ]
  },
  {
   "cell_type": "code",
   "execution_count": 28,
   "metadata": {},
   "outputs": [],
   "source": [
    "# ModuleList will be shorter code, but for convience looking i used ModuleDict\n",
    "for name, mod in context_modules.items():\n",
    "    idx = int(name.split('_')[-1])\n",
    "    if idx <= 1 :\n",
    "        continue\n",
    "    elif idx % 2 == 0:\n",
    "        mod.weight.data = context_modules['embedding_A_0'].weight.data\n",
    "    else:\n",
    "        mod.weight.data = context_modules['embedding_C_1'].weight.data\n",
    "\n",
    "# others layers\n",
    "embedding_B = nn.Embedding(len(VOCAB), EMBED, padding_idx=VOCAB.stoi['<pad>'])\n",
    "linear_mapping = nn.Linear(embed_size, embed_size)  # helpful linear mapping for each hops\n",
    "linear_final = nn.Linear(embed_size, len(VOCAB))"
   ]
  },
  {
   "cell_type": "code",
   "execution_count": 29,
   "metadata": {},
   "outputs": [
    {
     "data": {
      "text/plain": [
       "tensor(1, dtype=torch.uint8)"
      ]
     },
     "execution_count": 29,
     "metadata": {},
     "output_type": "execute_result"
    }
   ],
   "source": [
    "context_modules['embedding_A_0'].weight.sum() == context_modules['embedding_A_2'].weight.sum()"
   ]
  },
  {
   "cell_type": "markdown",
   "metadata": {},
   "source": [
    "** 3. Common: temporal encoding**"
   ]
  },
  {
   "cell_type": "code",
   "execution_count": 30,
   "metadata": {},
   "outputs": [
    {
     "data": {
      "text/plain": [
       "ModuleDict(\n",
       "  (temporal_A): Embedding(11, 10, padding_idx=0)\n",
       "  (temporal_C): Embedding(11, 10, padding_idx=0)\n",
       ")"
      ]
     },
     "execution_count": 30,
     "metadata": {},
     "output_type": "execute_result"
    }
   ],
   "source": [
    "softmax_layer = nn.Softmax(dim=1)\n",
    "temporal_modules = nn.ModuleDict([('temporal_{}'.format(n), \n",
    "                                   nn.Embedding(MAXLEN+1, EMBED, padding_idx=VOCAB.stoi['<pad>'])) \\\n",
    "                                  for n in ['A', 'C']])\n",
    "temporal_modules"
   ]
  },
  {
   "cell_type": "code",
   "execution_count": 8,
   "metadata": {},
   "outputs": [],
   "source": [
    "class MEMN2N(nn.Module):\n",
    "    def __init__(self, vocab_size, embed_size, n_hops=3, weight_style='adjacent',\n",
    "                 encoding_method='bow', temporal=True, maxlen_story=None, pad_idx=0):\n",
    "        \"\"\"\n",
    "        https://arxiv.org/pdf/1503.08895.pdf\n",
    "        Args:\n",
    "        - vocab_size: length of vocabulary\n",
    "        - embed_size: size of embedding dimension  \n",
    "        - n_hops: multiple computational steps for memories\n",
    "        - weight_style: \n",
    "            * 'adjacent': share all weights B = A(1) = C(1) = ... = C(K) = W^T\n",
    "            * 'rnnlike': share weights \n",
    "        - encoding_method:\n",
    "        - temporal:\n",
    "        - maxlen_story:\n",
    "        - pad_idx:\n",
    "        \"\"\"\n",
    "        super(MEMN2N, self).__init__()\n",
    "        self.vocab_size = vocab_size\n",
    "        self.embed_size = embed_size\n",
    "        self.n_hops = n_hops\n",
    "        self.maxlen_story = maxlen_story\n",
    "        self.weight_style = weight_style.lower()\n",
    "        self.encoding_method = encoding_method.lower()\n",
    "        self.te = temporal\n",
    "        self.pad_idx = pad_idx\n",
    "        \n",
    "        self.layers_init()\n",
    "        self.apply(self.weight_init)\n",
    "        \n",
    "    def layers_init(self):\n",
    "        \"\"\"\n",
    "        two types: adjacent, rnnlike\n",
    "        \"\"\"\n",
    "        self.context_modules = nn.ModuleDict([('embedding_{}_{}'.format(n, k), \n",
    "                                               nn.Embedding(self.vocab_size, \n",
    "                                                            self.embed_size,\n",
    "                                                            padding_idx=self.pad_idx)) \\\n",
    "                                              for k, n in enumerate(['A', 'C']*self.n_hops)])\n",
    "        # adjacent weight sharing style\n",
    "        if self.weight_style == 'adjacent':\n",
    "            for name, mod in self.context_modules.items():\n",
    "                idx = int(name.split('_')[-1])\n",
    "                if idx == 0:\n",
    "                    self.embedding_B = nn.Embedding(self.vocab_size, self.embed_size, padding_idx=self.pad_idx)\n",
    "                    self.embedding_B.weight.data = mod.weight.data \n",
    "                elif idx % 2 == 0:\n",
    "                    mod.weight.data = self.context_modules['embedding_C_{}'.format(idx-1)].weight.data\n",
    "                elif idx == (self.n_hops*2-1):\n",
    "                    self.linear_final = nn.Linear(self.embed_size, self.vocab_size, bias=False)\n",
    "                    self.linear_final.weight.data = mod.weight.data\n",
    "            \n",
    "        # rnn-like weight sharing style        \n",
    "        elif self.weight_style == 'rnnlike':\n",
    "            for name, mod in self.context_modules.items():\n",
    "                idx = int(name.split('_')[-1])\n",
    "                if idx <= 1 :\n",
    "                    continue\n",
    "                elif idx % 2 == 0:\n",
    "                    mod.weight.data = self.context_modules['embedding_A_0'].weight.data\n",
    "                else:\n",
    "                    mod.weight.data = self.context_modules['embedding_C_1'].weight.data\n",
    "\n",
    "            # others layers\n",
    "            self.embedding_B = nn.Embedding(self.vocab_size, self.embed_size, padding_idx=self.pad_idx)\n",
    "            self.linear_mapping = nn.Linear(self.embed_size, self.embed_size)  # inear mapping for each hops\n",
    "            self.linear_final = nn.Linear(self.embed_size, self.vocab_size, bias=False)\n",
    "        else:\n",
    "            assert True, 'Insert \"adjacent\" or \"rnnlike\" in weight_style'\n",
    "        # common\n",
    "        self.softmax_layer = nn.Softmax(dim=1)\n",
    "        if self.te:\n",
    "            self.temporal_modules = nn.ModuleDict([('temporal_{}'.format(n), \n",
    "                                                    nn.Embedding(self.maxlen_story+1, \n",
    "                                                                 self.embed_size, \n",
    "                                                                 padding_idx=self.pad_idx)) \\\n",
    "                                                   for n in ['A', 'C']])\n",
    "    def weight_init(self, m):\n",
    "        if isinstance(m, nn.Embedding):\n",
    "            nn.init.normal_(m.weight.data, mean=0, std=0.1)\n",
    "            m.weight.data[0] = 0\n",
    "        elif isinstance(m, nn.Linear):\n",
    "            nn.init.normal_(m.weight.data, mean=0, std=0.1)\n",
    "            if self.weight_style == 'adjacent':\n",
    "                m.weight.data[0] = 0\n",
    "            if m.bias is not None:\n",
    "                nn.init.zeros_(m.bias.data)\n",
    "                \n",
    "    def encoding2memory(self, embeded_x):\n",
    "        sum_dim = 2 if embeded_x.dim() == 4 else 1  # stories sum_dim=2, queries sum_dim=1\n",
    "        *_, len_words, embed_size = embeded_x.size()  # len_words=J, embed_size=d\n",
    "        \n",
    "        if self.encoding_method == 'bow':\n",
    "            return embeded_x.sum(sum_dim)\n",
    "        \n",
    "        if self.encoding_method == 'pe':\n",
    "            temp = torch.ones_like(embeded_x, device='cpu')\n",
    "            k = temp * torch.arange(1, embed_size+1, dtype=torch.float) / embed_size\n",
    "            l = temp * torch.arange(1, len_words+1, dtype=torch.float).unsqueeze(1) / len_words\n",
    "            position = (1- l) - k * (1 - 2*l)\n",
    "            position_encoded = (embeded_x * position.to(embeded_x.device)).sum(sum_dim)\n",
    "            return position_encoded  # B, (len_story), embed_size\n",
    "        \n",
    "        else:\n",
    "            assert True, 'Insert \"bow\" or \"pe\" in encoding_method'\n",
    "            \n",
    "    def forward(self, stories, queries, stories_idx, ls=False, return_p=False):\n",
    "        \"\"\"\n",
    "        Inputs:\n",
    "        - stories: B, maxlen_story(T), maxlen_words(n)\n",
    "        - queries: B, maxlen_query(T_q)\n",
    "        - stories_idx: B, maxlen_story(T)\n",
    "        - ls: linear start\n",
    "        Outputs:\n",
    "        - log softmaxed score(nll loss)\n",
    "        \"\"\"            \n",
    "        # Start Learning\n",
    "        embeded_b = self.embedding_B(queries) \n",
    "        u_next = self.encoding2memory(embeded_b)  # (B, d)\n",
    "        ps = []\n",
    "        for k in range(self.n_hops):\n",
    "            embeded_a = self.context_modules['embedding_A_{}'.format(2*k)](stories)  # (B, T, n, d)\n",
    "            embeded_c = self.context_modules['embedding_C_{}'.format(2*k+1)](stories)  # (B, T, n, d)\n",
    "            m = self.encoding2memory(embeded_a)  # (B, T, d)\n",
    "            c = self.encoding2memory(embeded_c)  # (B, T, d)\n",
    "            if self.te:\n",
    "                m += self.temporal_modules['temporal_A'](stories_idx)  # (B, T, d)\n",
    "                c += self.temporal_modules['temporal_C'](stories_idx)  # (B, T, d)\n",
    "            if ls:\n",
    "                # (B, T, d) x (B, d, 1) = (B, T, 1)\n",
    "                p = torch.bmm(m, u_next.unsqueeze(2))\n",
    "            else:\n",
    "                p = self.softmax_layer(torch.bmm(m, u_next.unsqueeze(2)))\n",
    "                ps.append(p.squeeze(2))  # [(B, T) for all hops]\n",
    "            o = (c * p).sum(1)  # (B, T, d) * (B, T, 1) = (B, T, d) > (B, d)\n",
    "            \n",
    "            if self.weight_style == 'rnnlike':\n",
    "                # (B, d) + (B, d) = (B, d)\n",
    "                u_next = self.linear_mapping(u_next) + o\n",
    "            else:\n",
    "                u_next = u_next + o\n",
    "                \n",
    "        a = self.linear_final(u_next)  # (B, d) > (B, V)\n",
    "        if return_p:\n",
    "            return a, ps\n",
    "        return torch.log_softmax(a, dim=1)  # use nll loss\n",
    "        "
   ]
  },
  {
   "cell_type": "code",
   "execution_count": 10,
   "metadata": {
    "scrolled": true
   },
   "outputs": [],
   "source": [
    "memn2n = MEMN2N(vocab_size=len(VOCAB), embed_size=15, weight_style='adjacent', \n",
    "                encoding_method='bow', temporal=True, maxlen_story=train.maxlen_story,\n",
    "                pad_idx=VOCAB.stoi['<pad>'])"
   ]
  },
  {
   "cell_type": "markdown",
   "metadata": {},
   "source": [
    "### Check"
   ]
  },
  {
   "cell_type": "code",
   "execution_count": 11,
   "metadata": {},
   "outputs": [],
   "source": [
    "memn2n.train()\n",
    "memn2n.zero_grad()"
   ]
  },
  {
   "cell_type": "code",
   "execution_count": 12,
   "metadata": {},
   "outputs": [],
   "source": [
    "def check_parameters(model, module_name):\n",
    "    print('[layer-{}] sum of papmerters: {:.4f}'.format(module_name, \n",
    "                                                    model.context_modules[module_name].weight.sum().item()))"
   ]
  },
  {
   "cell_type": "code",
   "execution_count": 13,
   "metadata": {},
   "outputs": [
    {
     "name": "stdout",
     "output_type": "stream",
     "text": [
      "[layer-embedding_C_1] sum of papmerters: 2.2103\n",
      "[layer-embedding_A_2] sum of papmerters: 2.2103\n"
     ]
    }
   ],
   "source": [
    "check_parameters(memn2n, 'embedding_C_1')\n",
    "check_parameters(memn2n, 'embedding_A_2')"
   ]
  },
  {
   "cell_type": "code",
   "execution_count": 14,
   "metadata": {},
   "outputs": [],
   "source": [
    "nll_loss = memn2n(stories, queries, stories_idx, ls=False)"
   ]
  },
  {
   "cell_type": "markdown",
   "metadata": {},
   "source": [
    "https://discuss.pytorch.org/t/valueerror-cant-optimize-a-non-leaf-tensor/21751/6"
   ]
  },
  {
   "cell_type": "code",
   "execution_count": 15,
   "metadata": {},
   "outputs": [],
   "source": [
    "loss_function = nn.NLLLoss(ignore_index=0, reduction='sum')\n",
    "optimizer = optim.SGD(memn2n.parameters(), lr=0.01)"
   ]
  },
  {
   "cell_type": "code",
   "execution_count": 16,
   "metadata": {},
   "outputs": [
    {
     "data": {
      "text/plain": [
       "torch.Size([2, 34])"
      ]
     },
     "execution_count": 16,
     "metadata": {},
     "output_type": "execute_result"
    }
   ],
   "source": [
    "nll_loss.size()"
   ]
  },
  {
   "cell_type": "code",
   "execution_count": 19,
   "metadata": {},
   "outputs": [
    {
     "data": {
      "text/plain": [
       "tensor(6.8665, grad_fn=<NllLossBackward>)"
      ]
     },
     "execution_count": 19,
     "metadata": {},
     "output_type": "execute_result"
    }
   ],
   "source": [
    "loss = loss_function(nll_loss, answers.view(-1))\n",
    "loss"
   ]
  },
  {
   "cell_type": "code",
   "execution_count": 39,
   "metadata": {},
   "outputs": [],
   "source": [
    "loss.backward()\n",
    "optimizer.step()"
   ]
  },
  {
   "cell_type": "code",
   "execution_count": 40,
   "metadata": {},
   "outputs": [
    {
     "name": "stdout",
     "output_type": "stream",
     "text": [
      "[layer-embedding_C_1] sum of papmerters: 3.1944\n",
      "[layer-embedding_A_2] sum of papmerters: 3.1944\n"
     ]
    }
   ],
   "source": [
    "check_parameters(memn2n, 'embedding_C_1')\n",
    "check_parameters(memn2n, 'embedding_A_2')"
   ]
  },
  {
   "cell_type": "markdown",
   "metadata": {},
   "source": [
    "## Train"
   ]
  },
  {
   "cell_type": "code",
   "execution_count": 3,
   "metadata": {},
   "outputs": [],
   "source": [
    "DEVICE = 'cuda' if torch.cuda.is_available() else 'cpu' \n",
    "TASK = 1\n",
    "BATCH = 32\n",
    "FIX_STORY = None\n",
    "\n",
    "EMBED = 30\n",
    "W_STYLE = 'adjacent'\n",
    "ENC_METHOD = 'bow'\n",
    "TEMPROAL = False\n",
    "STEP = 10\n",
    "LR = 0.01\n",
    "ANNEAL = 0.5"
   ]
  },
  {
   "cell_type": "code",
   "execution_count": 4,
   "metadata": {},
   "outputs": [],
   "source": [
    "babi = bAbI()\n",
    "train, valid, test = babi.splits(root='../data/QA_bAbI_tasks/en-valid-10k/', \n",
    "                                 task=TASK, \n",
    "                                 fix_maxlen_story=FIX_STORY,\n",
    "                                 device=DEVICE)\n",
    "train_loader, valid_loader, test_loader = babi.iters(train, valid, test, BATCH)\n",
    "VOCAB = train.vocab\n",
    "MAXLEN = train.maxlen_story\n",
    "\n",
    "memn2n = MEMN2N(vocab_size=len(VOCAB), embed_size=15, weight_style='rnnlike', \n",
    "                encoding_method='pe', temporal=True, maxlen_story=MAXLEN,\n",
    "                pad_idx=VOCAB.stoi['<pad>']).to(DEVICE)\n",
    "\n",
    "loss_function = nn.NLLLoss(ignore_index=VOCAB.stoi['<pad>'], reduction='sum')\n",
    "optimizer = optim.SGD(memn2n.parameters(), lr=LR)\n",
    "scheduler = optim.lr_scheduler.MultiStepLR(gamma=ANNEAL, milestones=[25, 50, 75], \n",
    "                                           optimizer=optimizer)"
   ]
  },
  {
   "cell_type": "code",
   "execution_count": 5,
   "metadata": {},
   "outputs": [
    {
     "name": "stdout",
     "output_type": "stream",
     "text": [
      "[1/10] loss: 60.7465, lr: 0.01,\n",
      "[2/10] loss: 56.6869, lr: 0.01,\n",
      "[3/10] loss: 44.6670, lr: 0.01,\n",
      "[4/10] loss: 7.4042, lr: 0.01,\n",
      "[5/10] loss: 0.0937, lr: 0.01,\n",
      "[6/10] loss: 0.0498, lr: 0.01,\n",
      "[7/10] loss: 0.0351, lr: 0.01,\n",
      "[8/10] loss: 0.0273, lr: 0.01,\n",
      "[9/10] loss: 0.0223, lr: 0.01,\n",
      "[10/10] loss: 0.0189, lr: 0.01,\n"
     ]
    }
   ],
   "source": [
    "for step in range(STEP):\n",
    "    \n",
    "    scheduler.step()\n",
    "    for b in train_loader:\n",
    "        stories, queries, answers = b\n",
    "        stories_idx = get_story_idx(stories, VOCAB.stoi['<pad>'])\n",
    "        memn2n.zero_grad()\n",
    "        \n",
    "        nll_loss = memn2n(stories, queries, stories_idx, ls=False)\n",
    "        loss = loss_function(nll_loss, answers.view(-1))\n",
    "        losses.append(loss.item())\n",
    "        \n",
    "        loss.backward()\n",
    "        \n",
    "        torch.nn.utils.clip_grad_norm_(memn2n.parameters(), 50.0)  # gradient clipping\n",
    "\n",
    "        optimizer.step()\n",
    "        \n",
    "    if step % 1 == 0:\n",
    "        string = '[{}/{}] loss: {:.4f}, lr: {},'.format(step+1, STEP, np.mean(losses), scheduler.get_lr()[0])\n",
    "        print(string)\n",
    "        losses=[]"
   ]
  },
  {
   "cell_type": "code",
   "execution_count": null,
   "metadata": {},
   "outputs": [],
   "source": []
  }
 ],
 "metadata": {
  "kernelspec": {
   "display_name": "Python 3",
   "language": "python",
   "name": "python3"
  },
  "language_info": {
   "codemirror_mode": {
    "name": "ipython",
    "version": 3
   },
   "file_extension": ".py",
   "mimetype": "text/x-python",
   "name": "python",
   "nbconvert_exporter": "python",
   "pygments_lexer": "ipython3",
   "version": "3.6.5"
  }
 },
 "nbformat": 4,
 "nbformat_minor": 2
}
